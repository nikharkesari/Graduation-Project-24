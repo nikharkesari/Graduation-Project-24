{
 "cells": [
  {
   "cell_type": "code",
   "execution_count": 1,
   "metadata": {},
   "outputs": [],
   "source": [
    "import frame_extraction\n",
    "import feature_extraction\n",
    "import cv2\n",
    "import os\n",
    "import numpy as np"
   ]
  },
  {
   "cell_type": "code",
   "execution_count": null,
   "metadata": {},
   "outputs": [],
   "source": [
    "from pytube import YouTube\n",
    "video_url = \"https://www.youtube.com/watch?v=zdkBo-GSqpo\"\n",
    "yt = YouTube(video_url)\n",
    "stream = yt.streams.get_highest_resolution()\n",
    "stream.download(filename='input_video.mp4')"
   ]
  },
  {
   "cell_type": "code",
   "execution_count": 2,
   "metadata": {},
   "outputs": [
    {
     "name": "stdout",
     "output_type": "stream",
     "text": [
      "Number of frames extracted is  271\n"
     ]
    }
   ],
   "source": [
    "total_frames=frame_extraction.extract_frames('input_video.mp4',10) #path to the video, desired fps\n",
    "frame_extraction.scale_down_frames('frames','train') #path of input and output folder"
   ]
  },
  {
   "cell_type": "code",
   "execution_count": 4,
   "metadata": {},
   "outputs": [],
   "source": [
    "def load_image(path):\n",
    "\n",
    "    image = cv2.imread(path)\n",
    "    \n",
    "    # Convert image in BGR format to RGB.\n",
    "    image = cv2.cvtColor(image, cv2.COLOR_BGR2RGB)\n",
    "    \n",
    "    # Add a batch dimension which is required by the model.\n",
    "    image = np.expand_dims(image, axis=0)\n",
    "    \n",
    "    return image"
   ]
  },
  {
   "cell_type": "code",
   "execution_count": 5,
   "metadata": {},
   "outputs": [],
   "source": [
    "#storing all the scaled down frames \n",
    "images=[]\n",
    "for path in os.listdir('train'):\n",
    "    images.append(load_image('train/'+path))"
   ]
  },
  {
   "cell_type": "code",
   "execution_count": 1,
   "metadata": {},
   "outputs": [
    {
     "name": "stderr",
     "output_type": "stream",
     "text": [
      "c:\\users\\kingn\\appdata\\local\\programs\\python\\python39\\lib\\site-packages\\scipy\\__init__.py:177: UserWarning: A NumPy version >=1.18.5 and <1.26.0 is required for this version of SciPy (detected version 1.26.1\n",
      "  warnings.warn(f\"A NumPy version >={np_minversion} and <{np_maxversion}\"\n"
     ]
    }
   ],
   "source": [
    "import spacy\n",
    "from nltk.corpus import stopwords\n",
    "from nltk.tokenize import word_tokenize\n",
    "import string\n",
    "\n",
    "nlp = spacy.load(\"en_core_web_md\")"
   ]
  },
  {
   "cell_type": "code",
   "execution_count": 2,
   "metadata": {},
   "outputs": [],
   "source": [
    "def process_query(query):\n",
    "\n",
    "    tokens = word_tokenize(query)\n",
    "\n",
    "    # Convert tokens to lowercase\n",
    "    tokens = [word.lower() for word in tokens]\n",
    "\n",
    "    # Remove punctuation and stopwords\n",
    "    stop_words = set(stopwords.words('english'))\n",
    "    tokens = [\n",
    "        word for word in tokens if word not in string.punctuation and word not in stop_words]\n",
    "\n",
    "    return tokens"
   ]
  },
  {
   "cell_type": "code",
   "execution_count": 3,
   "metadata": {},
   "outputs": [],
   "source": [
    "def relevance_score(list1, list2):\n",
    "    # Process the lists using spaCy to get Doc objects\n",
    "    doc1 = nlp(\" \".join(list1))\n",
    "    doc2 = nlp(\" \".join(list2))\n",
    "\n",
    "    # Calculate cosine similarity between the two Doc objects\n",
    "    similarity = doc1.similarity(doc2)\n",
    "\n",
    "    return similarity"
   ]
  },
  {
   "cell_type": "code",
   "execution_count": 10,
   "metadata": {},
   "outputs": [
    {
     "data": {
      "text/plain": [
       "0.42517917332802835"
      ]
     },
     "execution_count": 10,
     "metadata": {},
     "output_type": "execute_result"
    }
   ],
   "source": [
    "feature_list={}\n",
    "count=1\n",
    "for x in images:\n",
    "    fr=f'{count:04d}.jpg'\n",
    "    fx=feature_extraction.extract_features(x,0.5)\n",
    "    feature_list[fr]=fx\n",
    "    print(f\"Progress: {(count + 1) / total_frames * 100:.2f}%\", end=\"\\r\")\n",
    "    count+=1"
   ]
  },
  {
   "cell_type": "code",
   "execution_count": null,
   "metadata": {},
   "outputs": [],
   "source": [
    "import pickle\n",
    "with open(\"feature_list.pkl\", \"wb\") as f:\n",
    "    pickle.dump(feature_list, f)"
   ]
  },
  {
   "cell_type": "code",
   "execution_count": null,
   "metadata": {},
   "outputs": [],
   "source": [
    "import pickle\n",
    "with open(\"feature_list.pkl\", \"rb\") as f:\n",
    "    feature_list = pickle.load(f)"
   ]
  },
  {
   "cell_type": "code",
   "execution_count": null,
   "metadata": {},
   "outputs": [],
   "source": [
    "query='Car chase scene'\n",
    "query=process_query(query)\n",
    "\n",
    "selected_frames=[]\n",
    "for fr,fx in feature_list.items():\n",
    "    if relevance_score(query,fx)>0.3:\n",
    "        selected_frames.append(fr)"
   ]
  },
  {
   "cell_type": "code",
   "execution_count": 28,
   "metadata": {},
   "outputs": [],
   "source": [
    "frame = cv2.imread('frames/0001.jpg')\n",
    "height, width, layers = frame.shape\n",
    "\n",
    "video = cv2.VideoWriter('output.mp4', 0, 4, (width,height))\n",
    "\n",
    "for img in selected_frames:\n",
    "    video.write(cv2.imread('frames/'+img))\n",
    "\n",
    "cv2.destroyAllWindows()\n",
    "video.release()"
   ]
  }
 ],
 "metadata": {
  "kernelspec": {
   "display_name": "Python 3",
   "language": "python",
   "name": "python3"
  },
  "language_info": {
   "codemirror_mode": {
    "name": "ipython",
    "version": 3
   },
   "file_extension": ".py",
   "mimetype": "text/x-python",
   "name": "python",
   "nbconvert_exporter": "python",
   "pygments_lexer": "ipython3",
   "version": "3.9.1"
  }
 },
 "nbformat": 4,
 "nbformat_minor": 2
}
