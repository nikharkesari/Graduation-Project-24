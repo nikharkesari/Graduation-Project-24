{
 "cells": [
  {
   "cell_type": "code",
   "execution_count": 4,
   "metadata": {},
   "outputs": [],
   "source": [
    "import pickle\n",
    "import cv2\n",
    "import spacy\n",
    "from nltk.corpus import stopwords\n",
    "from nltk.tokenize import word_tokenize\n",
    "import string\n",
    "\n",
    "nlp = spacy.load(\"en_core_web_md\")"
   ]
  },
  {
   "cell_type": "code",
   "execution_count": 9,
   "metadata": {},
   "outputs": [],
   "source": [
    "def process_query(query):\n",
    "\n",
    "    tokens = word_tokenize(query)\n",
    "\n",
    "    # Convert tokens to lowercase\n",
    "    tokens = [word.lower() for word in tokens]\n",
    "\n",
    "    # Remove punctuation and stopwords\n",
    "    stop_words = set(stopwords.words(\"english\"))\n",
    "    tokens = [\n",
    "        word\n",
    "        for word in tokens\n",
    "        if word not in string.punctuation and word not in stop_words\n",
    "    ]\n",
    "\n",
    "    return tokens\n",
    "\n",
    "\n",
    "def relevance_score(list1, list2):\n",
    "    # Process the lists using spaCy to get Doc objects\n",
    "    doc1 = nlp(\" \".join(list1))\n",
    "    doc2 = nlp(\" \".join(list2))\n",
    "\n",
    "    # Calculate cosine similarity between the two Doc objects\n",
    "    similarity = doc1.similarity(doc2)\n",
    "\n",
    "    return similarity\n",
    "\n",
    "\n",
    "def generate_summary(query):\n",
    "    query = process_query(query)\n",
    "    selected_frames = []\n",
    "    for fr, fx in feature_list.items():\n",
    "        if relevance_score(query, fx) > 0.5:\n",
    "            selected_frames.append(fr)\n",
    "    frame = cv2.imread(\"frames/0001.jpg\")\n",
    "    height, width, layers = frame.shape\n",
    "\n",
    "    video = cv2.VideoWriter(\"output.mp4\", 0, 10, (width, height))\n",
    "\n",
    "    for img in selected_frames:\n",
    "        video.write(cv2.imread(\"frames/\" + img))\n",
    "\n",
    "    cv2.destroyAllWindows()\n",
    "    video.release()"
   ]
  },
  {
   "cell_type": "code",
   "execution_count": 12,
   "metadata": {},
   "outputs": [
    {
     "name": "stderr",
     "output_type": "stream",
     "text": [
      "<ipython-input-9-9fe21769ac7c>:25: UserWarning: [W008] Evaluating Doc.similarity based on empty vectors.\n",
      "  similarity = doc1.similarity(doc2)\n"
     ]
    }
   ],
   "source": [
    "with open(\"feature_list.pkl\", \"rb\") as f:\n",
    "    feature_list = pickle.load(f)\n",
    "\n",
    "generate_summary(\"airplanes in the video\")"
   ]
  }
 ],
 "metadata": {
  "kernelspec": {
   "display_name": "Python 3",
   "language": "python",
   "name": "python3"
  },
  "language_info": {
   "codemirror_mode": {
    "name": "ipython",
    "version": 3
   },
   "file_extension": ".py",
   "mimetype": "text/x-python",
   "name": "python",
   "nbconvert_exporter": "python",
   "pygments_lexer": "ipython3",
   "version": "3.9.1"
  }
 },
 "nbformat": 4,
 "nbformat_minor": 2
}
